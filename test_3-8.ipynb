{
 "cells": [
  {
   "metadata": {},
   "cell_type": "markdown",
   "source": [
    "# Projeto de sistema de transmissão para eixos deslocados em 90°\n",
    "\n",
    "Disciplina: TMEC038 Elementos de Máquinas II\n",
    "\n",
    "Alunos:\n",
    "- Marcos Augusto Belizario\n",
    "- Murasson Obil"
   ],
   "id": "e738217bf0236fc9"
  },
  {
   "metadata": {},
   "cell_type": "markdown",
   "source": "## 1. Importando pacotes necessários",
   "id": "57a4903f430f2d54"
  },
  {
   "metadata": {
    "ExecuteTime": {
     "end_time": "2024-10-18T00:28:19.285508Z",
     "start_time": "2024-10-18T00:28:19.278413Z"
    }
   },
   "cell_type": "code",
   "source": [
    "import numpy as np\n",
    "\n",
    "from abc import ABC, abstractmethod"
   ],
   "id": "73886b61b510dc88",
   "outputs": [],
   "execution_count": 36
  },
  {
   "metadata": {},
   "cell_type": "markdown",
   "source": "## 2. Definindo as caracteristicas do sistema de transmissão",
   "id": "62b8bc4a67f7f5f5"
  },
  {
   "metadata": {
    "collapsed": true,
    "ExecuteTime": {
     "end_time": "2024-10-18T00:28:19.337563Z",
     "start_time": "2024-10-18T00:28:19.331960Z"
    }
   },
   "cell_type": "code",
   "source": [
    "# Caracteristicas da transmissão\n",
    "rpm_out = 900.0 / 4.0\n",
    "power_out = 8.0 * 735.5\n",
    "ratio = 4.0\n",
    "life_cycle = 1.0e7\n",
    "reliability = 0.92"
   ],
   "id": "initial_id",
   "outputs": [],
   "execution_count": 37
  },
  {
   "metadata": {},
   "cell_type": "markdown",
   "source": [
    "<img src=\"./tab-13-2.png\" alt=\"Tabela 13.2\" style=\"height: 400px;\"/>\n",
    "<img src=\"./fig-13-7.png\" alt=\"Figura 13.7\" style=\"height: 400px;\"/>"
   ],
   "id": "bc885cd851d0723"
  },
  {
   "metadata": {
    "ExecuteTime": {
     "end_time": "2024-10-18T00:28:19.395618Z",
     "start_time": "2024-10-18T00:28:19.388854Z"
    }
   },
   "cell_type": "code",
   "source": [
    "# Caracteristicas das engrenagens\n",
    "alpha = 20.0\n",
    "qv = 9\n",
    "qm = 2\n",
    "kmb = 1.1\n",
    "k0 = 2.0\n",
    "kx = 1.0\n",
    "\n",
    "sigma_esc = 125.4e6\n",
    "cs = 1.0"
   ],
   "id": "84e849949fc8955d",
   "outputs": [],
   "execution_count": 38
  },
  {
   "metadata": {},
   "cell_type": "markdown",
   "source": "## 3. Cálculo dos parâmetros geométricos e de resistência dos materiais",
   "id": "4de6e4f90754f7c6"
  },
  {
   "metadata": {
    "ExecuteTime": {
     "end_time": "2024-10-18T00:28:19.479298Z",
     "start_time": "2024-10-18T00:28:19.453022Z"
    }
   },
   "cell_type": "code",
   "source": [
    "class Gear(ABC):\n",
    "    def __init__(self, z, m, b, alpha, qv):\n",
    "        self.z = z\n",
    "        self.m = m\n",
    "        self.b = b\n",
    "        self.alpha = alpha\n",
    "        self.qv = qv\n",
    "        \n",
    "    @property\n",
    "    @abstractmethod\n",
    "    def d(self):\n",
    "        raise NotImplementedError()\n",
    "    \n",
    "    @abstractmethod\n",
    "    def ks(self):\n",
    "        raise NotImplementedError()\n",
    "\n",
    "    @abstractmethod\n",
    "    def km(self):\n",
    "        raise NotImplementedError()\n",
    "\n",
    "    @abstractmethod\n",
    "    def sigma_agma(self, k0, j, torque, rpm):\n",
    "        raise NotImplementedError()\n",
    "    \n",
    "    @staticmethod\n",
    "    @abstractmethod\n",
    "    def yn(n):\n",
    "        raise NotImplementedError()\n",
    "    \n",
    "    @abstractmethod\n",
    "    def csf(self, st, n, temp, r, k0, j, torque, rpm):\n",
    "        raise NotImplementedError()\n",
    "    \n",
    "    @property\n",
    "    def dp(self):\n",
    "        return self.z * self.m\n",
    "\n",
    "    def tangencial_force(self, torque):\n",
    "        return 2.0 * torque / self.d\n",
    "\n",
    "    def tangencial_velocity(self, rpm):\n",
    "        return self.d * rpm * np.pi / 60.0\n",
    "    \n",
    "    def kv(self, rpm):\n",
    "        aux_b = 0.25 * (12.0 - qv) ** (2.0 / 3.0)\n",
    "        aux_a = 50.0 + 56.0 * (1.0 - aux_b)\n",
    "        return (1.0 + np.sqrt(200.0 * self.tangencial_velocity(rpm)) / aux_a) ** aux_b\n",
    "    \n",
    "    @staticmethod\n",
    "    def yt(temp):\n",
    "        if temp < 120.0:\n",
    "            return 1.0\n",
    "        else:\n",
    "            return (273.0 + temp) / 393.0\n",
    "        \n",
    "    @staticmethod\n",
    "    def yz(r):\n",
    "        if r < 0.99:\n",
    "            return 0.658 - 0.0759 * np.log(1.0 - r)\n",
    "        else:\n",
    "            return 0.5 - 0.109 * np.log(1.0 - r)\n",
    "\n",
    "\n",
    "class ConicalGear(Gear):\n",
    "    def __init__(self, z, m, b, alpha, qv, gamma, kx):\n",
    "        super().__init__(z, m, b, alpha, qv)\n",
    "        self.gamma = gamma\n",
    "        self.kx = kx\n",
    "        \n",
    "    @property\n",
    "    def dm(self):\n",
    "        return self.dp - self.b * np.sin(self.gamma)\n",
    "    \n",
    "    @property\n",
    "    def d(self):\n",
    "        return self.dm\n",
    "    \n",
    "    def ks(self):\n",
    "        if self.m < 1.6e-3:\n",
    "            return 0.5\n",
    "        elif self.m < 50.0e-3:\n",
    "            return 0.4867 + 8.339 * self.m\n",
    "        \n",
    "    def km(self):\n",
    "        return kmb + 5.6 * self.b ** 2.0\n",
    "\n",
    "    def sigma_agma(self, k0, j, torque, rpm):\n",
    "        force_factors = k0 * self.kv(rpm) * self.ks() * self.km()\n",
    "        geometry_factors = self.kx * j\n",
    "        return force_factors * self.tangencial_force(torque) / (geometry_factors * self.b * self.m)\n",
    "    \n",
    "    @staticmethod\n",
    "    def yn(n):\n",
    "        if n < 3.0e6:\n",
    "            return 6.1514 * n ** -0.1192\n",
    "        else:\n",
    "            return 1.683 * n ** -0.0323\n",
    "\n",
    "    def csf(self, st, n, temp, r, k0, j, torque, rpm):\n",
    "        # return st * self.yn(n) / (Gear.yt(temp) * Gear.yz(r) * self.sigma_agma(k0, j, torque, rpm))\n",
    "        return st * 0.896 / (Gear.yt(temp) * Gear.yz(r) * self.sigma_agma(k0, j, torque, rpm))"
   ],
   "id": "64b7f1ecfb565ba7",
   "outputs": [],
   "execution_count": 39
  },
  {
   "metadata": {
    "ExecuteTime": {
     "end_time": "2024-10-18T00:28:19.549865Z",
     "start_time": "2024-10-18T00:28:19.528258Z"
    }
   },
   "cell_type": "code",
   "source": [
    "def calc_states(power=None, torque=None, rpm=None):\n",
    "    if power is None:\n",
    "        power = torque * (rpm * np.pi / 30.0)\n",
    "    elif torque is None:\n",
    "        torque = power / (rpm * np.pi / 30)\n",
    "    elif rpm is None:\n",
    "        rpm = (30.0 / np.pi) * power / torque\n",
    "\n",
    "    return power, torque, rpm\n",
    "\n",
    "\n",
    "def form_factor(z, alpha=20.0):\n",
    "    z_data = np.array([10, 11, 12, 13, 14, \n",
    "                  15, 16, 17, 18, 19, \n",
    "                  20, 22, 24, 26, 28, \n",
    "                  30, 32, 34, 36, 38, \n",
    "                  40, 45, 50, 55, 60, \n",
    "                  65, 70, 75, 80, 90, \n",
    "                  100, 150, 200, 300], dtype=np.int32)\n",
    "    \n",
    "    y_145 = np.array([0.176, 0.192, 0.210, 0.223, 0.236, \n",
    "                      0.245, 0.255, 0.264, 0.270, 0.277,\n",
    "                      0.283, 0.292, 0.302, 0.308, 0.314, \n",
    "                      0.318, 0.322, 0.325, 0.329, 0.332,\n",
    "                      0.336, 0.340, 0.346, 0.352, 0.355, \n",
    "                      0.358, 0.360, 0.361, 0.363, 0.366, \n",
    "                      0.368, 0.375, 0.378, 0.382], dtype=np.float64)\n",
    "    \n",
    "    y_200 = np.array([0.201, 0.226, 0.245, 0.264, 0.276, \n",
    "                      0.289, 0.295, 0.302, 0.308, 0.314, \n",
    "                      0.320, 0.330, 0.337, 0.344, 0.352, \n",
    "                      0.358, 0.364, 0.370, 0.377, 0.383, \n",
    "                      0.389, 0.399, 0.408, 0.415, 0.421, \n",
    "                      0.425, 0.429, 0.433, 0.436, 0.442, \n",
    "                      0.446, 0.458, 0.463, 0.471], dtype=np.float64)\n",
    "    \n",
    "    y_145_pred = np.interp(z, z_data, y_145)\n",
    "    y_200_pred = np.interp(z, z_data, y_200)\n",
    "    y_pred = np.interp(alpha, [14.5, 20.0], [y_145_pred, y_200_pred])\n",
    "    \n",
    "    return y_pred\n",
    "    \n",
    "def lewis_equation(m, z, alpha, k0, ft, sigma_esc, cs=1.0):\n",
    "    y = form_factor(z, alpha)\n",
    "    return cs * (k0 * ft) / (m * y * sigma_esc)  # return b\n",
    "\n",
    "\n",
    "def generate_gears(m0, z10, alpha, qv, k0, kx, sigma_esc, cs, ratio, torque, rtol=1.0e-6, niter=100):\n",
    "    b0 = 1.0e-3\n",
    "    \n",
    "    pinion = ConicalGear(z10, m0, b0, alpha, qv, np.arctan(1.0 / ratio), kx)\n",
    "    crown = ConicalGear(round(ratio * pinion.z), m0, b0, alpha, qv, np.arctan(ratio), kx)\n",
    "\n",
    "    for _ in range(niter):\n",
    "        b0 = lewis_equation(m0, z10, alpha, k0, pinion.tangencial_force(torque), sigma_esc, cs)\n",
    "        pinion.b = b0\n",
    "        crown.b = b0\n",
    "\n",
    "    return pinion, crown"
   ],
   "id": "2aa28e4dcadc3cb0",
   "outputs": [],
   "execution_count": 40
  },
  {
   "metadata": {},
   "cell_type": "markdown",
   "source": "## 4. Aplicando o equacionamento ao estudo de caso",
   "id": "d01096911c3fc8f3"
  },
  {
   "metadata": {},
   "cell_type": "markdown",
   "source": [
    "### 4.1. Obtendo os parâmetros iniciais a partir da Equação de Lewis\n",
    "\n",
    "Para evitar interferência, temos que z1 >= 15, e para obter a quantidade de dentes na coroa seja inteira com uma relação de transmissão de 1.5, temos que z1 deve ser divísivel por 2.\n",
    "Portanto, o menor número de dentes para o pinhão é z1 = 16."
   ],
   "id": "e51d36f038f2ba96"
  },
  {
   "metadata": {
    "ExecuteTime": {
     "end_time": "2024-10-18T00:28:19.619375Z",
     "start_time": "2024-10-18T00:28:19.605315Z"
    }
   },
   "cell_type": "code",
   "source": [
    "m0 = 2.5e-3\n",
    "z10 = 15\n",
    "\n",
    "power1, torque1, rpm1 = calc_states(power_out, None, rpm_out * ratio)\n",
    "power2, torque2, rpm2 = calc_states(power_out, None, rpm_out)\n",
    "\n",
    "pinion, crown = generate_gears(m0, z10, alpha, qv, k0, kx, sigma_esc, cs, ratio, torque1)"
   ],
   "id": "cd3bfcb14efbca81",
   "outputs": [],
   "execution_count": 41
  },
  {
   "metadata": {
    "ExecuteTime": {
     "end_time": "2024-10-18T00:28:19.691477Z",
     "start_time": "2024-10-18T00:28:19.678627Z"
    }
   },
   "cell_type": "code",
   "source": [
    "pinion.b = 25.0e-3\n",
    "crown.b = 25.0e-3\n",
    "\n",
    "print(f\"Pinhao: z = {pinion.z} | m = {pinion.m * 1.0e3:.2f} mm | b = {pinion.b * 1.0e3:.2f} mm | dp = {pinion.dp * 1.0e3:.2f} mm | dm = {pinion.dm * 1.0e3:.2f} mm\")\n",
    "print(f\" Coroa: z = {crown.z} | m = {crown.m * 1.0e3:.2f} mm | b = {crown.b * 1.0e3:.2f} mm | dp = {crown.dp * 1.0e3:.2f} mm | dm = {crown.dm * 1.0e3:.2f} mm\")"
   ],
   "id": "17730167ad2d6873",
   "outputs": [
    {
     "name": "stdout",
     "output_type": "stream",
     "text": [
      "Pinhao: z = 15 | m = 2.50 mm | b = 25.00 mm | dp = 37.50 mm | dm = 31.44 mm\n",
      " Coroa: z = 60 | m = 2.50 mm | b = 25.00 mm | dp = 150.00 mm | dm = 125.75 mm\n"
     ]
    }
   ],
   "execution_count": 42
  },
  {
   "metadata": {},
   "cell_type": "markdown",
   "source": "<img src=\"./fig-13-6.png\" alt=\"Figura 13.6\" style=\"height: 400px;\"/>",
   "id": "8e192cadc3678011"
  },
  {
   "metadata": {
    "ExecuteTime": {
     "end_time": "2024-10-18T00:28:19.761150Z",
     "start_time": "2024-10-18T00:28:19.750949Z"
    }
   },
   "cell_type": "code",
   "source": [
    "j1 = 0.24\n",
    "pinion_sigma_agma = pinion.sigma_agma(k0, j1, torque1, rpm1)\n",
    "pinion_csf = pinion.csf(sigma_esc, life_cycle, 70.0, reliability, k0, j1, torque1, rpm1)\n",
    "print(f\"Pinhao: sigma_agma = {pinion_sigma_agma * 1.0e-6:.3f} MPa | CSf = {pinion_csf:.3f}\")\n",
    "\n",
    "j2 = 0.179\n",
    "crown_sigma_agma = crown.sigma_agma(k0, j2, torque2, rpm2)\n",
    "crown_csf = crown.csf(sigma_esc, life_cycle / ratio, 70.0, reliability, k0, j2, torque2, rpm2)\n",
    "print(f\"Coroa: sigma_agma = {crown_sigma_agma * 1.0e-6:.3f} MPa | CSf = {crown_csf:.3f}\")"
   ],
   "id": "87ea8e33fb86a40c",
   "outputs": [
    {
     "name": "stdout",
     "output_type": "stream",
     "text": [
      "Pinhao: sigma_agma = 329.468 MPa | CSf = 0.401\n",
      "Coroa: sigma_agma = 441.744 MPa | CSf = 0.299\n"
     ]
    }
   ],
   "execution_count": 43
  },
  {
   "metadata": {
    "ExecuteTime": {
     "end_time": "2024-10-18T00:28:19.826827Z",
     "start_time": "2024-10-18T00:28:19.821948Z"
    }
   },
   "cell_type": "code",
   "source": "",
   "id": "e8af5c331e29156",
   "outputs": [],
   "execution_count": null
  }
 ],
 "metadata": {
  "kernelspec": {
   "display_name": "Python 3",
   "language": "python",
   "name": "python3"
  },
  "language_info": {
   "codemirror_mode": {
    "name": "ipython",
    "version": 2
   },
   "file_extension": ".py",
   "mimetype": "text/x-python",
   "name": "python",
   "nbconvert_exporter": "python",
   "pygments_lexer": "ipython2",
   "version": "2.7.6"
  }
 },
 "nbformat": 4,
 "nbformat_minor": 5
}
