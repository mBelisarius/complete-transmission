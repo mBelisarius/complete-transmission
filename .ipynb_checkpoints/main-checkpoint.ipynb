{
 "cells": [
  {
   "metadata": {
    "ExecuteTime": {
     "end_time": "2024-10-12T02:23:44.329782Z",
     "start_time": "2024-10-12T02:23:44.147976Z"
    }
   },
   "cell_type": "code",
   "source": [
    "import numpy as np\n",
    "\n",
    "from abc import ABC, abstractmethod"
   ],
   "id": "73886b61b510dc88",
   "outputs": [],
   "execution_count": 1
  },
  {
   "metadata": {
    "collapsed": true,
    "ExecuteTime": {
     "end_time": "2024-10-12T02:23:44.357610Z",
     "start_time": "2024-10-12T02:23:44.351448Z"
    }
   },
   "cell_type": "code",
   "source": [
    "rpm_out = 400 / 3.0\n",
    "power_out = 2.0e3\n",
    "ratio = 3.0\n",
    "life_cycle = 1.0e7\n",
    "reliability = 0.95\n",
    "\n",
    "# rpm_out = 1200\n",
    "# power_out = 5.0e3\n",
    "# ratio = 1.5\n",
    "# life_cycle = 1.0e7\n",
    "# reliability = 0.95"
   ],
   "id": "initial_id",
   "outputs": [],
   "execution_count": 2
  },
  {
   "metadata": {
    "ExecuteTime": {
     "end_time": "2024-10-12T02:23:44.496570Z",
     "start_time": "2024-10-12T02:23:44.493690Z"
    }
   },
   "cell_type": "code",
   "source": [
    "alpha = 20.0\n",
    "qv = 8\n",
    "qm = 2\n",
    "kmb = 1.125\n",
    "k0 = 1.25\n",
    "kx = 1.0\n",
    "\n",
    "sigma_esc = 180.0e6\n",
    "cs = 1.5"
   ],
   "id": "84e849949fc8955d",
   "outputs": [],
   "execution_count": 3
  },
  {
   "metadata": {
    "ExecuteTime": {
     "end_time": "2024-10-12T02:23:44.630743Z",
     "start_time": "2024-10-12T02:23:44.617301Z"
    }
   },
   "cell_type": "code",
   "source": [
    "class Gear(ABC):\n",
    "    def __init__(self, z, m, b, alpha, qv):\n",
    "        self.z = z\n",
    "        self.m = m\n",
    "        self.b = b\n",
    "        self.alpha = alpha\n",
    "        self.qv = qv\n",
    "        \n",
    "    @property\n",
    "    @abstractmethod\n",
    "    def d(self):\n",
    "        raise NotImplementedError()\n",
    "    \n",
    "    @abstractmethod\n",
    "    def ks(self):\n",
    "        raise NotImplementedError()\n",
    "\n",
    "    @abstractmethod\n",
    "    def km(self):\n",
    "        raise NotImplementedError()\n",
    "\n",
    "    @abstractmethod\n",
    "    def sigma_agma(self, k0, j, torque, rpm):\n",
    "        raise NotImplementedError()\n",
    "    \n",
    "    @staticmethod\n",
    "    @abstractmethod\n",
    "    def yn(n):\n",
    "        raise NotImplementedError()\n",
    "    \n",
    "    @abstractmethod\n",
    "    def csf(self, st, n, temp, r, k0, j, torque, rpm):\n",
    "        raise NotImplementedError()\n",
    "    \n",
    "    @property\n",
    "    def dp(self):\n",
    "        return self.z * self.m\n",
    "\n",
    "    def tangencial_force(self, torque):\n",
    "        return 2.0 * torque / self.d\n",
    "\n",
    "    def tangencial_velocity(self, rpm):\n",
    "        return self.d * rpm * np.pi / 60.0\n",
    "    \n",
    "    def kv(self, rpm):\n",
    "        aux_b = 0.25 * (12.0 - qv) ** (2.0 / 3.0)\n",
    "        aux_a = 50.0 + 56.0 * (1.0 - aux_b)\n",
    "        return (1.0 + np.sqrt(200.0 * self.tangencial_velocity(rpm)) / aux_a) ** aux_b\n",
    "    \n",
    "    @staticmethod\n",
    "    def yt(temp):\n",
    "        if temp < 120.0:\n",
    "            return 1.0\n",
    "        else:\n",
    "            return (273.0 + temp) / 393.0\n",
    "        \n",
    "    @staticmethod\n",
    "    def yz(r):\n",
    "        if r < 0.99:\n",
    "            return 0.658 - 0.0759 * np.log(1.0 - r)\n",
    "        else:\n",
    "            return 0.5 - 0.109 * np.log(1.0 - r)\n",
    "\n",
    "\n",
    "class ConicalGear(Gear):\n",
    "    def __init__(self, z, m, b, alpha, qv, gamma, kx):\n",
    "        super().__init__(z, m, b, alpha, qv)\n",
    "        self.gamma = gamma\n",
    "        self.kx = kx\n",
    "        \n",
    "    @property\n",
    "    def dm(self):\n",
    "        return self.dp - self.b * np.sin(self.gamma)\n",
    "    \n",
    "    @property\n",
    "    def d(self):\n",
    "        return self.dm\n",
    "    \n",
    "    def ks(self):\n",
    "        if self.m < 1.6e-3:\n",
    "            return 0.5\n",
    "        elif self.m < 50.0e-3:\n",
    "            return 0.4867 + 0.008339 * self.m\n",
    "        \n",
    "    def km(self):\n",
    "        return kmb + 5.6 * self.b ** 2.0\n",
    "\n",
    "    def sigma_agma(self, k0, j, torque, rpm):\n",
    "        force_factors = k0 * self.kv(rpm) * self.ks() * self.km()\n",
    "        geometry_factors = self.kx * j\n",
    "        return force_factors * self.tangencial_force(torque) / (geometry_factors * self.b * self.m)\n",
    "    \n",
    "    @staticmethod\n",
    "    def yn(n):\n",
    "        if n < 3.0e6:\n",
    "            return 6.1514 * n ** -0.1192\n",
    "        else:\n",
    "            return 1.683 * n ** -0.0323\n",
    "\n",
    "    def csf(self, st, n, temp, r, k0, j, torque, rpm):\n",
    "        return st * self.yn(n) / (Gear.yt(temp) * Gear.yz(r) * self.sigma_agma(k0, j, torque, rpm))"
   ],
   "id": "64b7f1ecfb565ba7",
   "outputs": [],
   "execution_count": 4
  },
  {
   "metadata": {
    "ExecuteTime": {
     "end_time": "2024-10-12T02:23:44.827497Z",
     "start_time": "2024-10-12T02:23:44.818715Z"
    }
   },
   "cell_type": "code",
   "source": [
    "def calc_states(power=None, torque=None, rpm=None):\n",
    "    if power is None:\n",
    "        power = torque * (rpm * np.pi / 30.0)\n",
    "    elif torque is None:\n",
    "        torque = power / (rpm * np.pi / 30)\n",
    "    elif rpm is None:\n",
    "        rpm = (30.0 / np.pi) * power / torque\n",
    "\n",
    "    return power, torque, rpm\n",
    "\n",
    "\n",
    "def form_factor(z, alpha=20.0):\n",
    "    z_data = np.array([10, 11, 12, 13, 14, \n",
    "                  15, 16, 17, 18, 19, \n",
    "                  20, 22, 24, 26, 28, \n",
    "                  30, 32, 34, 36, 38, \n",
    "                  40, 45, 50, 55, 60, \n",
    "                  65, 70, 75, 80, 90, \n",
    "                  100, 150, 200, 300], dtype=np.int32)\n",
    "    \n",
    "    y_145 = np.array([0.176, 0.192, 0.210, 0.223, 0.236, \n",
    "                      0.245, 0.255, 0.264, 0.270, 0.277,\n",
    "                      0.283, 0.292, 0.302, 0.308, 0.314, \n",
    "                      0.318, 0.322, 0.325, 0.329, 0.332,\n",
    "                      0.336, 0.340, 0.346, 0.352, 0.355, \n",
    "                      0.358, 0.360, 0.361, 0.363, 0.366, \n",
    "                      0.368, 0.375, 0.378, 0.382], dtype=np.float64)\n",
    "    \n",
    "    y_200 = np.array([0.201, 0.226, 0.245, 0.264, 0.276, \n",
    "                      0.289, 0.295, 0.302, 0.308, 0.314, \n",
    "                      0.320, 0.330, 0.337, 0.344, 0.352, \n",
    "                      0.358, 0.364, 0.370, 0.377, 0.383, \n",
    "                      0.389, 0.399, 0.408, 0.415, 0.421, \n",
    "                      0.425, 0.429, 0.433, 0.436, 0.442, \n",
    "                      0.446, 0.458, 0.463, 0.471], dtype=np.float64)\n",
    "    \n",
    "    y_145_pred = np.interp(z, z_data, y_145)\n",
    "    y_200_pred = np.interp(z, z_data, y_200)\n",
    "    y_pred = np.interp(alpha, [14.5, 20.0], [y_145_pred, y_200_pred])\n",
    "    \n",
    "    return y_pred\n",
    "    \n",
    "def lewis_equation(m, z, alpha, k0, ft, sigma_esc, cs=1.0):\n",
    "    y = form_factor(z, alpha)\n",
    "    return cs * (k0 * ft) / (m * y * sigma_esc)  # return b\n",
    "\n",
    "\n",
    "def generate_gears(m0, z10, alpha, qv, k0, kx, sigma_esc, cs, ratio, torque, rtol=1.0e-6, niter=100):\n",
    "    b0 = 1.0e-3\n",
    "    \n",
    "    pinion = ConicalGear(z10, m0, b0, alpha, qv, np.arctan(1.0 / ratio), kx)\n",
    "    crown = ConicalGear(ratio * pinion.z, m0, b0, alpha, qv, np.arctan(ratio), kx)\n",
    "\n",
    "    for _ in range(niter):\n",
    "        b0 = lewis_equation(m0, z10, alpha, k0, pinion.tangencial_force(torque), sigma_esc, cs)\n",
    "        pinion.b = b0\n",
    "        crown.b = b0\n",
    "\n",
    "    return pinion, crown"
   ],
   "id": "2aa28e4dcadc3cb0",
   "outputs": [],
   "execution_count": 5
  },
  {
   "metadata": {},
   "cell_type": "markdown",
   "source": "![Figura 13.6](\"./fig-13-6.png\")",
   "id": "8e192cadc3678011"
  },
  {
   "metadata": {
    "ExecuteTime": {
     "end_time": "2024-10-12T02:23:44.865015Z",
     "start_time": "2024-10-12T02:23:44.859927Z"
    }
   },
   "cell_type": "code",
   "source": [
    "m0 = 3.0e-3\n",
    "z10 = 17\n",
    "\n",
    "power1, torque1, rpm1 = calc_states(power_out, None, rpm_out * ratio)\n",
    "power2, torque2, rpm2 = calc_states(power_out, None, rpm_out)\n",
    "\n",
    "pinion, crown = generate_gears(m0, z10, alpha, qv, k0, kx, sigma_esc, cs, ratio, torque1)"
   ],
   "id": "cd3bfcb14efbca81",
   "outputs": [],
   "execution_count": 6
  },
  {
   "metadata": {
    "ExecuteTime": {
     "end_time": "2024-10-12T02:23:44.925577Z",
     "start_time": "2024-10-12T02:23:44.918427Z"
    }
   },
   "cell_type": "code",
   "source": "pinion.b",
   "id": "17730167ad2d6873",
   "outputs": [
    {
     "data": {
      "text/plain": [
       "0.02558753920266877"
      ]
     },
     "execution_count": 7,
     "metadata": {},
     "output_type": "execute_result"
    }
   ],
   "execution_count": 7
  },
  {
   "metadata": {
    "ExecuteTime": {
     "end_time": "2024-10-12T02:23:45.160341Z",
     "start_time": "2024-10-12T02:23:45.155887Z"
    }
   },
   "cell_type": "code",
   "source": "pinion.sigma_agma(k0, 0.23, torque1, rpm1) * 1.0e-6",
   "id": "87ea8e33fb86a40c",
   "outputs": [
    {
     "data": {
      "text/plain": [
       "96.56092465740181"
      ]
     },
     "execution_count": 8,
     "metadata": {},
     "output_type": "execute_result"
    }
   ],
   "execution_count": 8
  },
  {
   "metadata": {
    "ExecuteTime": {
     "end_time": "2024-10-12T02:23:45.837158Z",
     "start_time": "2024-10-12T02:23:45.408333Z"
    }
   },
   "cell_type": "code",
   "source": "pinion.csf()",
   "id": "1e9273aec153078",
   "outputs": [
    {
     "ename": "TypeError",
     "evalue": "ConicalGear.csf() missing 8 required positional arguments: 'st', 'n', 'temp', 'r', 'k0', 'j', 'torque', and 'rpm'",
     "output_type": "error",
     "traceback": [
      "\u001B[0;31m---------------------------------------------------------------------------\u001B[0m",
      "\u001B[0;31mTypeError\u001B[0m                                 Traceback (most recent call last)",
      "Cell \u001B[0;32mIn[9], line 1\u001B[0m\n\u001B[0;32m----> 1\u001B[0m \u001B[43mpinion\u001B[49m\u001B[38;5;241;43m.\u001B[39;49m\u001B[43mcsf\u001B[49m\u001B[43m(\u001B[49m\u001B[43m)\u001B[49m\n",
      "\u001B[0;31mTypeError\u001B[0m: ConicalGear.csf() missing 8 required positional arguments: 'st', 'n', 'temp', 'r', 'k0', 'j', 'torque', and 'rpm'"
     ]
    }
   ],
   "execution_count": 9
  }
 ],
 "metadata": {
  "kernelspec": {
   "display_name": "Python 3",
   "language": "python",
   "name": "python3"
  },
  "language_info": {
   "codemirror_mode": {
    "name": "ipython",
    "version": 2
   },
   "file_extension": ".py",
   "mimetype": "text/x-python",
   "name": "python",
   "nbconvert_exporter": "python",
   "pygments_lexer": "ipython2",
   "version": "2.7.6"
  }
 },
 "nbformat": 4,
 "nbformat_minor": 5
}
